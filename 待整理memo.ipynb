{
 "cells": [
  {
   "cell_type": "markdown",
   "metadata": {},
   "source": [
    "# 待整理memo for rpi3\n",
    "## 目前試著打造rpi3為我日常使用的電腦, 比較亂的memo就先放這~\n",
    "\n",
    "### 目前家裡用USB開機, 感覺比較慢, 是不是我的USB隨身碟太慢了, 之前用class10的SD卡就沒著麼慢的感覺...  (2018-04-20)\n",
    "\n",
    "- install jupyter-notebook\n",
    "- git test\n",
    "- 不錯的東西: [line web version](https://chrome.google.com/webstore/detail/line/ophjlpahpchlmihnnnihgmmeilfjmjjc)\n",
    "\n",
    "---\n"
   ]
  },
  {
   "cell_type": "markdown",
   "metadata": {},
   "source": [
    "## install jupyter-notebook\n",
    "\n",
    "### ref: [link](http://www.instructables.com/id/Jupyter-Notebook-on-Raspberry-Pi/)\n",
    "\n",
    "### install commands that I use:\n",
    "```\n",
    "sudo su -\n",
    "apt-get update\n",
    "apt-get install python3-matplotlib\n",
    "apt-get install python3-scipy\n",
    "pip3 install --upgrade pip\n",
    "reboot\n",
    "sudo pip3 install jupyter\n",
    "```\n",
    "- 但感覺只要用```apt-get update``` , ```sudo pip3 install jupyter``` 兩個指令就可以了\n",
    "\n",
    "- 裝完後執行 ```jupyter-notebook``` 即可\n",
    "- 2018-04-21 安裝後執行jupyter-notebook會多了教我填入設定token, password的頁面 --> 晚點再來研究市要作什麼用的...\n",
    "\n",
    "---"
   ]
  },
  {
   "cell_type": "markdown",
   "metadata": {},
   "source": [
    "## raspberry中已有內建git, 因此如下使用即可\n",
    "\n",
    "- 設定名稱 ```git config --global user.name \"Your Name\"```\n",
    "- 設定email ```git config --global user.email email@example.com```\n",
    "- 下載git 專案 ```git clone git://github.com/maloyang/KHPY20180324``` 過程如下：\n",
    "\n",
    "```\n",
    "pi@raspberrypi:~/git-test $ git clone git://github.com/maloyang/KHPY20180324\n",
    "Cloning into 'KHPY20180324'...\n",
    "remote: Counting objects: 107, done.\n",
    "remote: Compressing objects: 100% (66/66), done.\n",
    "remote: Total 107 (delta 51), reused 91 (delta 38), pack-reused 0\n",
    "Receiving objects: 100% (107/107), 306.63 KiB | 359.00 KiB/s, done.\n",
    "Resolving deltas: 100% (51/51), done.\n",
    "```\n",
    "\n",
    "---"
   ]
  },
  {
   "cell_type": "markdown",
   "metadata": {},
   "source": [
    "## virtualenv操作\n",
    "\n",
    "- raspbian環境中就有python2, python3, 操作時沒指定容易弄錯, 用virtualenv會比較確實\n",
    "- 現在都改用python3了, 所以下指令 ```sudo pip3 install virtualenv``` 安裝\n",
    "- 測試一下環境:\n",
    "\n",
    "```\n",
    "virtualenv flasktest\n",
    "source flasktest/bin/activate\n",
    "pip install flask\n",
    "pip freeze\n",
    "...\n",
    "deactivate\n",
    "```\n",
    "\n",
    "- create an virtualenv: ```virtualenv flasktest```\n",
    "- active it: ```source flasktest/bin/activate```\n",
    "- install a package: ```pip install flask```\n",
    "- check all install package list in this env: ```pip freeze```\n",
    "- output a requirements.txt file for later use: ```pip freeze > requirements.txt```\n",
    "- install the same packages at anather env: ```pip install -r requirements.txt```\n",
    "- exit this virtualenv: ```deactivate```\n",
    "- more information, [look this](https://pip.pypa.io/en/stable/reference/pip_freeze/)\n",
    "\n",
    "---\n"
   ]
  },
  {
   "cell_type": "markdown",
   "metadata": {},
   "source": [
    "## 一些想研究的資源\n",
    "\n",
    "---\n",
    "### 爬蟲：把食譜抓下來\n",
    "- 看到廠商的製麵包機食譜就想來抓來試試: http://www.wech.com.tw/breads/b01/01.html\n"
   ]
  },
  {
   "cell_type": "code",
   "execution_count": null,
   "metadata": {},
   "outputs": [],
   "source": [
    "import requests\n",
    "\n",
    "url = \"http://www.wech.com.tw/breads/910/01.jpg\"\n",
    "r = requests.get(url)"
   ]
  },
  {
   "cell_type": "code",
   "execution_count": null,
   "metadata": {},
   "outputs": [],
   "source": [
    "if r.status_code == 200:\n",
    "    with open('im.jpg', 'wb') as f:\n",
    "        f.write(r.content)\n",
    "    print('finish to save a image')\n",
    "else:\n",
    "    print('bad return code')"
   ]
  },
  {
   "cell_type": "markdown",
   "metadata": {},
   "source": [
    "### 基本準備工作做好了!\n",
    "- 原來的網頁中的圖片連結格式：http://www.wech.com.tw/breads/b01/xx.jpg\n",
    "- 顯示從01~65，共有這麼多張圖，全爬下來就是一本書囉~\n",
    "- 我們開始來試試吧"
   ]
  },
  {
   "cell_type": "code",
   "execution_count": null,
   "metadata": {},
   "outputs": [],
   "source": [
    "import requests\n",
    "import os\n",
    "\n",
    "if(not os.path.exists('./img')):\n",
    "    os.makedirs('./img')\n",
    "\n",
    "url_base = \"http://www.wech.com.tw/breads/910/\"\n",
    "for i in range(1, 66):\n",
    "    url = url_base + '%02d.jpg'%(i)\n",
    "    r = requests.get(url)\n",
    "    if r.status_code == 200:\n",
    "        with open('./img/img_%02d.jpg'%(i), 'wb') as f:\n",
    "            f.write(r.content)\n",
    "        print('[%02d]finish to save a image'%(i))\n",
    "    else:\n",
    "        print('[%02d]bad return code'%(i))"
   ]
  }
 ],
 "metadata": {
  "kernelspec": {
   "display_name": "Python 3",
   "language": "python",
   "name": "python3"
  },
  "language_info": {
   "codemirror_mode": {
    "name": "ipython",
    "version": 3
   },
   "file_extension": ".py",
   "mimetype": "text/x-python",
   "name": "python",
   "nbconvert_exporter": "python",
   "pygments_lexer": "ipython3",
   "version": "3.5.3"
  }
 },
 "nbformat": 4,
 "nbformat_minor": 2
}
