{
 "cells": [
  {
   "cell_type": "markdown",
   "metadata": {},
   "source": [
    "# 待整理memo for rpi3\n",
    "## 目前試著打造rpi3為我日常使用的電腦, 比較亂的memo就先放這~\n",
    "\n",
    "### 目前家裡用USB開機, 感覺比較慢, 是不是我的USB隨身碟太慢了, 之前用class10的SD卡就沒著麼慢的感覺...  (2018-04-20)\n",
    "\n",
    "- install jupyter-notebook\n",
    "- git test\n",
    "- 不錯的東西: [line web version](https://chrome.google.com/webstore/detail/line/ophjlpahpchlmihnnnihgmmeilfjmjjc)\n",
    "\n",
    "---\n"
   ]
  },
  {
   "cell_type": "markdown",
   "metadata": {},
   "source": [
    "## install jupyter-notebook\n",
    "\n",
    "### ref: [link](http://www.instructables.com/id/Jupyter-Notebook-on-Raspberry-Pi/)\n",
    "\n",
    "### install commands that I use:\n",
    "```\n",
    "sudo su -\n",
    "apt-get update\n",
    "apt-get install python3-matplotlib\n",
    "apt-get install python3-scipy\n",
    "pip3 install --upgrade pip\n",
    "reboot\n",
    "sudo pip3 install jupyter\n",
    "```\n",
    "- 但感覺只要用```apt-get update``` , ```sudo pip3 install jupyter``` 兩個指令就可以了\n",
    "\n",
    "- 裝完後執行 ```jupyter-notebook``` 即可\n",
    "- 2018-04-21 安裝後執行jupyter-notebook會多了教我填入設定token, password的頁面 --> 晚點再來研究市要作什麼用的...\n",
    "- 2018-04-22 使用SD卡再裝一次, 執行jupyter-notebook就又沒有設定token, password的頁面了, 真怪\n",
    "\n",
    "---"
   ]
  },
  {
   "cell_type": "markdown",
   "metadata": {},
   "source": [
    "## raspberry中已有內建git, 因此如下使用即可\n",
    "\n",
    "- 設定名稱 ```git config --global user.name \"Your Name\"```\n",
    "- 設定email ```git config --global user.email email@example.com```\n",
    "- 下載git 專案 ```git clone git://github.com/maloyang/KHPY20180324``` 過程如下：\n",
    "\n",
    "```\n",
    "pi@raspberrypi:~/git-test $ git clone git://github.com/maloyang/KHPY20180324\n",
    "Cloning into 'KHPY20180324'...\n",
    "remote: Counting objects: 107, done.\n",
    "remote: Compressing objects: 100% (66/66), done.\n",
    "remote: Total 107 (delta 51), reused 91 (delta 38), pack-reused 0\n",
    "Receiving objects: 100% (107/107), 306.63 KiB | 359.00 KiB/s, done.\n",
    "Resolving deltas: 100% (51/51), done.\n",
    "```\n",
    "\n",
    "---"
   ]
  },
  {
   "cell_type": "markdown",
   "metadata": {},
   "source": [
    "## virtualenv操作\n",
    "\n",
    "- raspbian環境中就有python2, python3, 操作時沒指定容易弄錯, 用virtualenv會比較確實\n",
    "- 現在都改用python3了, 所以下指令 ```sudo pip3 install virtualenv``` 安裝\n",
    "- 測試一下環境:\n",
    "\n",
    "```\n",
    "virtualenv flasktest\n",
    "source flasktest/bin/activate\n",
    "pip install flask\n",
    "pip freeze\n",
    "...\n",
    "deactivate\n",
    "```\n",
    "\n",
    "- create an virtualenv: ```virtualenv flasktest```\n",
    "- active it: ```source flasktest/bin/activate```\n",
    "- install a package: ```pip install flask```\n",
    "- check all install package list in this env: ```pip freeze```\n",
    "- output a requirements.txt file for later use: ```pip freeze > requirements.txt```\n",
    "- install the same packages at anather env: ```pip install -r requirements.txt```\n",
    "- exit this virtualenv: ```deactivate```\n",
    "- more information, [look this](https://pip.pypa.io/en/stable/reference/pip_freeze/)\n",
    "\n",
    "---\n"
   ]
  },
  {
   "cell_type": "markdown",
   "metadata": {},
   "source": [
    "## VSCode安裝\n",
    "\n",
    "### 安裝前要有做過 ```sudo apt-get update``` 才行, 不然裝GPG key時就會失敗\n",
    "- 參考[這篇](https://www.raspberrypi.org/forums/viewtopic.php?t=191342), (use pre-build package to install vscode)\n",
    "- install GPG key  \n",
    "```sudo wget -qO - https://packagecloud.io/headmelted/codebuilds/gpgkey | sudo apt-key add -;```\n",
    "- add source by ```sudo nano /etc/apt/sources.list``` ,add this line  \n",
    "```deb https://packagecloud.io/headmelted/codebuilds/raspbian/ jessie main```\n",
    "- update  \n",
    "```sudo apt-get update```\n",
    "- install (40M and install for 205MB)  \n",
    "```sudo apt-get install code-oss```\n"
   ]
  },
  {
   "cell_type": "markdown",
   "metadata": {},
   "source": [
    "---\n",
    "# == 一些想研究的資源 ==\n",
    "\n",
    "---\n"
   ]
  },
  {
   "cell_type": "markdown",
   "metadata": {},
   "source": [
    "## 爬蟲：把食譜抓下來\n",
    "- 看到廠商的製麵包機食譜就想來抓來試試: http://www.wech.com.tw/breads/b01/01.html\n"
   ]
  },
  {
   "cell_type": "code",
   "execution_count": null,
   "metadata": {},
   "outputs": [],
   "source": [
    "import requests\n",
    "\n",
    "url = \"http://www.wech.com.tw/breads/910/01.jpg\"\n",
    "r = requests.get(url)"
   ]
  },
  {
   "cell_type": "code",
   "execution_count": null,
   "metadata": {},
   "outputs": [],
   "source": [
    "if r.status_code == 200:\n",
    "    with open('im.jpg', 'wb') as f:\n",
    "        f.write(r.content)\n",
    "    print('finish to save a image')\n",
    "else:\n",
    "    print('bad return code')"
   ]
  },
  {
   "cell_type": "markdown",
   "metadata": {},
   "source": [
    "### 基本準備工作做好了! 來開工抓圖!\n",
    "- 原來的網頁中的圖片連結格式：http://www.wech.com.tw/breads/b01/xx.jpg\n",
    "- 顯示從01~65，共有這麼多張圖，全爬下來就是一本書囉~\n",
    "- 我們開始來試試吧"
   ]
  },
  {
   "cell_type": "code",
   "execution_count": null,
   "metadata": {},
   "outputs": [],
   "source": [
    "import requests\n",
    "import os\n",
    "\n",
    "if(not os.path.exists('./img')):\n",
    "    os.makedirs('./img')\n",
    "\n",
    "url_base = \"http://www.wech.com.tw/breads/910/\"\n",
    "for i in range(1, 66):\n",
    "    url = url_base + '%02d.jpg'%(i)\n",
    "    r = requests.get(url)\n",
    "    if r.status_code == 200:\n",
    "        with open('./img/img_%02d.jpg'%(i), 'wb') as f:\n",
    "            f.write(r.content)\n",
    "        print('[%02d]finish to save a image'%(i))\n",
    "    else:\n",
    "        print('[%02d]bad return code'%(i))"
   ]
  },
  {
   "cell_type": "markdown",
   "metadata": {},
   "source": [
    "## webcam拍照, 進一步成為video stream\n",
    "- 參考[這裡](https://www.raspberrypi.org/documentation/usage/webcams/)\n",
    "- 安裝fswebcam ```sudo apt-get install fswebcam```\n",
    "- 取圖 ```fswebcam image.jpg```, 若再操作廖夾下有產生image.jpg, 就表示成功了\n",
    "- 改解析度 ```fswebcam -r 1280x720 image2.jpg```\n",
    "\n",
    "---\n",
    "### 可以拍照後就來弄vidio stream吧\n",
    "- 參考[這邊](http://hophd.com/raspberry-pi-python-flask-video-streaming/)\n",
    "- 用預設的3張圖已正常, 但camera是用camera_pi這個套件-->不是webcam, 因此要做些修改...\n"
   ]
  },
  {
   "cell_type": "markdown",
   "metadata": {},
   "source": [
    "## 透過Rpi3連接firebase, 上傳IOT資料\n",
    "\n",
    "- 參考[連結](https://www.appcoda.com.tw/swift-raspberry-pi/)\n",
    "- 參考[連結](https://oranwind.org/-raspberry-pi-tou-guo-python-chuan-song-wen-shi-du-zi-xun-dao-google-firebase/)\n",
    "- firebase建立後會給你一個網址, 以我的來說: https://py-firebase-d4df7.firebaseio.com/\n",
    "- 再其後加上 ```.json``` 這樣就可以用網頁取到值了 --> 也就是說用requests.get就可以取得json資料\n"
   ]
  },
  {
   "cell_type": "code",
   "execution_count": 1,
   "metadata": {},
   "outputs": [],
   "source": [
    "import requests\n",
    "\n",
    "url = \"https://mydb-id.firebaseio.com/.json\"\n",
    "r = requests.get(url)\n"
   ]
  },
  {
   "cell_type": "code",
   "execution_count": 3,
   "metadata": {},
   "outputs": [
    {
     "data": {
      "text/plain": [
       "<Response [200]>"
      ]
     },
     "execution_count": 3,
     "metadata": {},
     "output_type": "execute_result"
    }
   ],
   "source": [
    "r"
   ]
  },
  {
   "cell_type": "code",
   "execution_count": 4,
   "metadata": {},
   "outputs": [
    {
     "data": {
      "text/plain": [
       "{'data': {'di': '1,0,0', 'do': '0,0,0'}, 'led0': 'on'}"
      ]
     },
     "execution_count": 4,
     "metadata": {},
     "output_type": "execute_result"
    }
   ],
   "source": [
    "r.json()"
   ]
  },
  {
   "cell_type": "code",
   "execution_count": null,
   "metadata": {},
   "outputs": [],
   "source": [
    "#data = {\"data\":{\"di\":[1,0,0], \"do\":[0,1]}}\n",
    "data = {\"data\":{\"di\":[1,0,0],\"do\":[0,1]},\"time\":\"20180424 201400\"}\n",
    "r = requests.post(url, json=data)\n"
   ]
  },
  {
   "cell_type": "code",
   "execution_count": 1,
   "metadata": {},
   "outputs": [],
   "source": [
    "r = requests.get(url)"
   ]
  },
  {
   "cell_type": "code",
   "execution_count": 2,
   "metadata": {},
   "outputs": [
    {
     "data": {
      "text/plain": [
       "{'-LArZvt4Xnj_Q-xM9Jo-': {'data': {'di': [1, 0, 0], 'do': [0, 1]},\n",
       "  'time': '20180424 201400'},\n",
       " 'data': {'di': '1,0,0', 'do': '0,0,0'},\n",
       " 'led0': 'on'}"
      ]
     },
     "execution_count": 2,
     "metadata": {},
     "output_type": "execute_result"
    }
   ],
   "source": [
    "r.json()"
   ]
  }
 ],
 "metadata": {
  "kernelspec": {
   "display_name": "Python 3",
   "language": "python",
   "name": "python3"
  },
  "language_info": {
   "codemirror_mode": {
    "name": "ipython",
    "version": 3
   },
   "file_extension": ".py",
   "mimetype": "text/x-python",
   "name": "python",
   "nbconvert_exporter": "python",
   "pygments_lexer": "ipython3",
   "version": "3.5.3"
  }
 },
 "nbformat": 4,
 "nbformat_minor": 2
}
